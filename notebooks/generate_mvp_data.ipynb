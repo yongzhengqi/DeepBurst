{
 "cells": [
  {
   "cell_type": "markdown",
   "metadata": {},
   "source": [
    "This notebook is used to generate dataset for simulating stage one of BurstSketch"
   ]
  },
  {
   "cell_type": "code",
   "execution_count": 1,
   "metadata": {},
   "outputs": [],
   "source": [
    "import numpy as np\n",
    "import pandas as pd\n",
    "import pickle as pkl\n",
    "from textwrap import wrap\n",
    "from tqdm.notebook import tqdm\n",
    "from multiprocessing import Pool"
   ]
  },
  {
   "cell_type": "code",
   "execution_count": 2,
   "metadata": {},
   "outputs": [],
   "source": [
    "bursts = pd.read_csv('../BurstSketch/BurstDetection/bursts.csv')\n",
    "data_flow = pd.read_csv('../BurstSketch/BurstDetection/input_flow.csv')"
   ]
  },
  {
   "cell_type": "code",
   "execution_count": 3,
   "metadata": {},
   "outputs": [
    {
     "data": {
      "application/vnd.jupyter.widget-view+json": {
       "model_id": "91e0dd2fa643458a8724bc25153b605c",
       "version_major": 2,
       "version_minor": 0
      },
      "text/plain": [
       "HBox(children=(FloatProgress(value=0.0, max=20000000.0), HTML(value='')))"
      ]
     },
     "metadata": {},
     "output_type": "display_data"
    },
    {
     "name": "stdout",
     "output_type": "stream",
     "text": [
      "\n"
     ]
    }
   ],
   "source": [
    "labels = []\n",
    "\n",
    "burst_by_id = {int(fid): [] for fid in data_flow.id.unique()}\n",
    "for row in bursts.itertuples():\n",
    "    start, end, fid = row.start_window, row.end_window, row.flow_id\n",
    "    \n",
    "    for window in range(int(start), int(end) + 1):\n",
    "        burst_by_id[fid].append(window)\n",
    "\n",
    "for row in tqdm(data_flow.itertuples(), total=len(data_flow)):\n",
    "    fid, window = row.id, row.window\n",
    "    labels.append(window in burst_by_id[fid])"
   ]
  },
  {
   "cell_type": "code",
   "execution_count": 5,
   "metadata": {},
   "outputs": [],
   "source": [
    "def string2list(string_id):\n",
    "    return list(map(lambda x: int(x, 2), wrap('{0:064b}'.format(string_id), 8)))\n",
    "\n",
    "string_ids = data_flow.id.values\n",
    "pool_size = 12  # number of processes, see more at https://stackoverflow.com/questions/20039659/python-multiprocessings-pool-process-limit\n",
    "\n",
    "with Pool(12) as p:\n",
    "    formated_ids = p.map(string2list, string_ids)"
   ]
  },
  {
   "cell_type": "code",
   "execution_count": 8,
   "metadata": {},
   "outputs": [],
   "source": [
    "dataset = pd.DataFrame(formated_ids)\n",
    "dataset['label'] = labels"
   ]
  },
  {
   "cell_type": "code",
   "execution_count": 12,
   "metadata": {},
   "outputs": [],
   "source": [
    "dataset.to_pickle('../data/stage_one_dataset.pickle')"
   ]
  },
  {
   "cell_type": "code",
   "execution_count": null,
   "metadata": {},
   "outputs": [],
   "source": []
  }
 ],
 "metadata": {
  "kernelspec": {
   "display_name": "Python 3",
   "language": "python",
   "name": "python3"
  },
  "language_info": {
   "codemirror_mode": {
    "name": "ipython",
    "version": 3
   },
   "file_extension": ".py",
   "mimetype": "text/x-python",
   "name": "python",
   "nbconvert_exporter": "python",
   "pygments_lexer": "ipython3",
   "version": "3.7.0"
  }
 },
 "nbformat": 4,
 "nbformat_minor": 2
}
