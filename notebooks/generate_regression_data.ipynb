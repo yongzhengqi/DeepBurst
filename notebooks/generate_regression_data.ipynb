{
 "cells": [
  {
   "cell_type": "markdown",
   "metadata": {},
   "source": [
    "This notebook is used to generate data for regression."
   ]
  },
  {
   "cell_type": "code",
   "execution_count": 1,
   "metadata": {},
   "outputs": [],
   "source": [
    "import numpy as np\n",
    "import pandas as pd\n",
    "import pickle as pkl\n",
    "from tensorflow import keras\n",
    "from matplotlib import pyplot as plt"
   ]
  },
  {
   "cell_type": "code",
   "execution_count": 10,
   "metadata": {},
   "outputs": [
    {
     "name": "stdout",
     "output_type": "stream",
     "text": [
      "            0    1    2    3    4    5    6    7\n",
      "0          96  171   10  219  230  138  193  153\n",
      "1         227  220   46  221  146  156    6  102\n",
      "2         204  166   96    1   60  197   47  108\n",
      "3          36  226  252   43    2   82   69  117\n",
      "4         236  167   96    1    3  101   88  202\n",
      "...       ...  ...  ...  ...  ...  ...  ...  ...\n",
      "19999995   54  224  252   43  202  247  161  113\n",
      "19999996   40  193   96    1   37  121    8  119\n",
      "19999997  144  196   76    1   74  187   57   99\n",
      "19999998  209  241  214  199  197  178  232   74\n",
      "19999999  113  167   96    1  178   96   57  128\n",
      "\n",
      "[20000000 rows x 8 columns]\n"
     ]
    }
   ],
   "source": [
    "dataset = pd.read_pickle('../data/stage_one_dataset.pickle')\n",
    "dataset.drop(columns=['label'], inplace=True)\n",
    "\n",
    "print(dataset)"
   ]
  },
  {
   "cell_type": "code",
   "execution_count": null,
   "metadata": {},
   "outputs": [],
   "source": []
  }
 ],
 "metadata": {
  "kernelspec": {
   "display_name": "Python 3",
   "language": "python",
   "name": "python3"
  },
  "language_info": {
   "codemirror_mode": {
    "name": "ipython",
    "version": 3
   },
   "file_extension": ".py",
   "mimetype": "text/x-python",
   "name": "python",
   "nbconvert_exporter": "python",
   "pygments_lexer": "ipython3",
   "version": "3.7.0"
  }
 },
 "nbformat": 4,
 "nbformat_minor": 2
}
