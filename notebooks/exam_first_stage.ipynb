{
 "cells": [
  {
   "cell_type": "markdown",
   "metadata": {},
   "source": [
    "This notebook is used to exam how well did the first stage in BurstSketch do."
   ]
  },
  {
   "cell_type": "code",
   "execution_count": 92,
   "metadata": {},
   "outputs": [],
   "source": [
    "import numpy as np\n",
    "import pandas as pd\n",
    "from textwrap import wrap\n",
    "from tqdm.notebook import tqdm\n",
    "from sklearn.metrics import recall_score, precision_score\n",
    "import matplotlib.pyplot as plt"
   ]
  },
  {
   "cell_type": "code",
   "execution_count": 93,
   "metadata": {},
   "outputs": [],
   "source": [
    "bursts = pd.read_csv('../BurstSketch/BurstDetection/bursts.csv')\n",
    "data_flow = pd.read_csv('../BurstSketch/BurstDetection/input_flow.csv')"
   ]
  },
  {
   "cell_type": "code",
   "execution_count": 94,
   "metadata": {},
   "outputs": [
    {
     "data": {
      "application/vnd.jupyter.widget-view+json": {
       "model_id": "41be5b7598504ee0a43e3fc8e2a12172",
       "version_major": 2,
       "version_minor": 0
      },
      "text/plain": [
       "HBox(children=(FloatProgress(value=0.0, max=19551.0), HTML(value='')))"
      ]
     },
     "metadata": {},
     "output_type": "display_data"
    },
    {
     "name": "stdout",
     "output_type": "stream",
     "text": [
      "\n"
     ]
    }
   ],
   "source": [
    "burst_by_id = {int(fid): [] for fid in data_flow.id.unique()}\n",
    "\n",
    "for row in tqdm(bursts.itertuples(), total=len(bursts)):\n",
    "    start, end, fid = row.start_window, row.end_window, row.flow_id\n",
    "    \n",
    "    for window in range(int(start), int(end) + 1):\n",
    "        burst_by_id[fid].append(window)"
   ]
  },
  {
   "cell_type": "code",
   "execution_count": 95,
   "metadata": {},
   "outputs": [
    {
     "data": {
      "application/vnd.jupyter.widget-view+json": {
       "model_id": "e3bba705ba714fa98ca2f8ad1b30f403",
       "version_major": 2,
       "version_minor": 0
      },
      "text/plain": [
       "HBox(children=(FloatProgress(value=0.0, max=20000000.0), HTML(value='')))"
      ]
     },
     "metadata": {},
     "output_type": "display_data"
    },
    {
     "name": "stdout",
     "output_type": "stream",
     "text": [
      "\n"
     ]
    }
   ],
   "source": [
    "outputs = data_flow.first_stage_passed\n",
    "labels = []\n",
    "\n",
    "for row in tqdm(data_flow.itertuples(), total=len(data_flow)):\n",
    "    fid, window = row.id, row.window\n",
    "    labels.append(window in burst_by_id[fid])"
   ]
  },
  {
   "cell_type": "code",
   "execution_count": 96,
   "metadata": {},
   "outputs": [
    {
     "name": "stdout",
     "output_type": "stream",
     "text": [
      "Mean Label: 0.14934735\n",
      "Mean Output: 0.3677845\n",
      "Recall: 0.9466502083900384\n",
      "Precision: 0.38440907651083717\n"
     ]
    }
   ],
   "source": [
    "print('Mean Label:', np.array(labels).mean())\n",
    "print('Mean Output:', np.array(outputs).mean())\n",
    "print('Recall:', recall_score(labels, outputs))\n",
    "print('Precision:', precision_score(labels, outputs))"
   ]
  },
  {
   "cell_type": "code",
   "execution_count": null,
   "metadata": {},
   "outputs": [],
   "source": []
  }
 ],
 "metadata": {
  "kernelspec": {
   "display_name": "Python 3",
   "language": "python",
   "name": "python3"
  },
  "language_info": {
   "codemirror_mode": {
    "name": "ipython",
    "version": 3
   },
   "file_extension": ".py",
   "mimetype": "text/x-python",
   "name": "python",
   "nbconvert_exporter": "python",
   "pygments_lexer": "ipython3",
   "version": "3.7.0"
  }
 },
 "nbformat": 4,
 "nbformat_minor": 2
}
