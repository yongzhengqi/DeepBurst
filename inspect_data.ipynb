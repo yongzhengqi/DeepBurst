{
 "cells": [
  {
   "cell_type": "code",
   "execution_count": 1,
   "metadata": {},
   "outputs": [],
   "source": [
    "import pandas as pd"
   ]
  },
  {
   "cell_type": "code",
   "execution_count": 7,
   "metadata": {},
   "outputs": [
    {
     "name": "stdout",
     "output_type": "stream",
     "text": [
      "       start_window  end_window               flow_id\n",
      "0                 0           1   3811839695737970800\n",
      "1                 0           1   1937388055591593858\n",
      "2                 0           1   2802079182368695166\n",
      "3                 0           1    496236171932314295\n",
      "4                 0           1    479457443491120079\n",
      "...             ...         ...                   ...\n",
      "19546           497         498   2009445648098903991\n",
      "19547           497         498  11717109505644131014\n",
      "19548           496         498  17320963818435742507\n",
      "19549           497         498  11145448289321729244\n",
      "19550           497         498   3832213198703593159\n",
      "\n",
      "[19551 rows x 3 columns]\n"
     ]
    }
   ],
   "source": [
    "bursts = pd.read_csv('bursts.csv')\n",
    "\n",
    "print(bursts)"
   ]
  },
  {
   "cell_type": "code",
   "execution_count": 8,
   "metadata": {},
   "outputs": [
    {
     "name": "stdout",
     "output_type": "stream",
     "text": [
      "                            id  window\n",
      "0          6965673188240572825       0\n",
      "1         16419049870668334694       0\n",
      "2         14746579588302057324       0\n",
      "3          2657963991754753397       0\n",
      "4         17052704071529879754       0\n",
      "...                        ...     ...\n",
      "19999995   3954437737850315121     499\n",
      "19999996   2936733990062196855     499\n",
      "19999997  10431546205329373539     499\n",
      "19999998  15128108776817879114     499\n",
      "19999999   8189620007800420736     499\n",
      "\n",
      "[20000000 rows x 2 columns]\n"
     ]
    }
   ],
   "source": [
    "data_flow = pd.read_csv('input_flow.csv')\n",
    "\n",
    "print(data_flow)"
   ]
  },
  {
   "cell_type": "code",
   "execution_count": null,
   "metadata": {},
   "outputs": [],
   "source": []
  }
 ],
 "metadata": {
  "kernelspec": {
   "display_name": "Python 3",
   "language": "python",
   "name": "python3"
  },
  "language_info": {
   "codemirror_mode": {
    "name": "ipython",
    "version": 3
   },
   "file_extension": ".py",
   "mimetype": "text/x-python",
   "name": "python",
   "nbconvert_exporter": "python",
   "pygments_lexer": "ipython3",
   "version": "3.7.0"
  }
 },
 "nbformat": 4,
 "nbformat_minor": 2
}
