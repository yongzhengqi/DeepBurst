{
 "cells": [
  {
   "cell_type": "code",
   "execution_count": 1,
   "metadata": {},
   "outputs": [],
   "source": [
    "import numpy as np\n",
    "import pandas as pd\n",
    "from textwrap import wrap\n",
    "import matplotlib.pyplot as plt\n",
    "from multiprocessing import Pool"
   ]
  },
  {
   "cell_type": "code",
   "execution_count": 2,
   "metadata": {},
   "outputs": [
    {
     "name": "stdout",
     "output_type": "stream",
     "text": [
      "       start_window  end_window               flow_id\n",
      "0                 0           1   2657963991754753397\n",
      "1                 0           1  12512794175361018992\n",
      "2                 0           1  17877546076046670168\n",
      "3                 0           1  11232254733221575454\n",
      "4                 0           1  17301085323065711183\n",
      "...             ...         ...                   ...\n",
      "17487            57          58  12081508025888746283\n",
      "17488            57          58  17855629180942097814\n",
      "17489            57          58  18365956542996398489\n",
      "17490            57          58   8134059664677084262\n",
      "17491            57          58   5343568423371385020\n",
      "\n",
      "[17492 rows x 3 columns]\n"
     ]
    }
   ],
   "source": [
    "bursts = pd.read_csv('./BurstSketch/BurstDetection/bursts.csv')\n",
    "\n",
    "print(bursts)"
   ]
  },
  {
   "cell_type": "code",
   "execution_count": 3,
   "metadata": {},
   "outputs": [
    {
     "name": "stdout",
     "output_type": "stream",
     "text": [
      "                            id  window  first_stage_passed\n",
      "0          6965673188240572825       0                   0\n",
      "1         16419049870668334694       0                   0\n",
      "2         14746579588302057324       0                   0\n",
      "3          2657963991754753397       0                   0\n",
      "4         17052704071529879754       0                   0\n",
      "...                        ...     ...                 ...\n",
      "29999995   5375924026709282596      59                   0\n",
      "29999996   7685216847270545615      59                   0\n",
      "29999997  10560202259430479728      59                   0\n",
      "29999998  13080968351519474764      59                   1\n",
      "29999999  17855629182340836061      59                   0\n",
      "\n",
      "[30000000 rows x 3 columns]\n"
     ]
    }
   ],
   "source": [
    "data_flow = pd.read_csv('./BurstSketch/BurstDetection/input_flow.csv')\n",
    "\n",
    "print(data_flow)"
   ]
  },
  {
   "cell_type": "code",
   "execution_count": 6,
   "metadata": {},
   "outputs": [],
   "source": [
    "def string2list(string_id):\n",
    "    return list(map(lambda x: int(x, 2), wrap('{0:064b}'.format(string_id), 8)))\n",
    "\n",
    "string_ids = data_flow.id.values\n",
    "pool_size = 12  # number of processes, see more at https://stackoverflow.com/questions/20039659/python-multiprocessings-pool-process-limit\n",
    "\n",
    "with Pool(12) as p:\n",
    "    formated_ids = p.map(string2list, string_ids)"
   ]
  },
  {
   "cell_type": "markdown",
   "metadata": {},
   "source": [
    "## Display Single ID Arrival"
   ]
  },
  {
   "cell_type": "code",
   "execution_count": null,
   "metadata": {},
   "outputs": [],
   "source": [
    "flow_id = 8134059664677084262\n",
    "\n",
    "ids = data_flow[data_flow.id == flow_id].groupby('window').count().index.values\n",
    "occurrences = data_flow[data_flow.id == flow_id].groupby('window').count().id.values\n",
    "\n",
    "x = range(data_flow.window.max() + 1)\n",
    "y = np.zeros(len(x))\n",
    "for idx, occurrence in zip(ids, occurrences):\n",
    "    y[idx] = occurrence\n",
    "\n",
    "plt.plot(x, y)\n",
    "plt.show()"
   ]
  },
  {
   "cell_type": "code",
   "execution_count": null,
   "metadata": {},
   "outputs": [],
   "source": []
  }
 ],
 "metadata": {
  "kernelspec": {
   "display_name": "Python 3",
   "language": "python",
   "name": "python3"
  },
  "language_info": {
   "codemirror_mode": {
    "name": "ipython",
    "version": 3
   },
   "file_extension": ".py",
   "mimetype": "text/x-python",
   "name": "python",
   "nbconvert_exporter": "python",
   "pygments_lexer": "ipython3",
   "version": "3.7.0"
  }
 },
 "nbformat": 4,
 "nbformat_minor": 2
}
